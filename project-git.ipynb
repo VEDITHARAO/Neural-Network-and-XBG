{
 "cells": [
  {
   "cell_type": "code",
   "execution_count": 1,
   "id": "41ba4e46",
   "metadata": {},
   "outputs": [],
   "source": [
    "## Import `Sequential` from `keras.models`\n",
    "from tensorflow.keras.models import Sequential\n",
    "\n",
    "# Import `Dense` from `keras.layers`\n",
    "from tensorflow.keras.layers import Dense\n",
    "\n",
    "from tensorflow.keras.wrappers.scikit_learn import KerasClassifier\n",
    "import tensorflow as tf"
   ]
  },
  {
   "cell_type": "code",
   "execution_count": 2,
   "id": "00c81da6",
   "metadata": {},
   "outputs": [],
   "source": [
    "import os\n",
    "import pandas as pd\n",
    "import numpy as np\n",
    "from datetime import datetime\n",
    "\n",
    "from sklearn.preprocessing import OneHotEncoder\n",
    "from sklearn.compose import make_column_transformer\n",
    "from sklearn.metrics import roc_auc_score, auc, accuracy_score, confusion_matrix, mean_squared_error, classification_report, confusion_matrix\n",
    "from sklearn.model_selection import cross_val_score, GridSearchCV, KFold, RandomizedSearchCV, train_test_split, StratifiedKFold\n",
    "\n",
    "import xgboost as xgb\n",
    "import multiprocessing\n",
    "\n",
    "import warnings\n",
    "warnings.filterwarnings('ignore')"
   ]
  },
  {
   "cell_type": "code",
   "execution_count": null,
   "id": "e2f7e95c",
   "metadata": {},
   "outputs": [],
   "source": [
    "test_df = pd.read_csv('test_result_complete.csv', parse_dates = ['date'])\n",
    "test_df.head(10)"
   ]
  },
  {
   "cell_type": "code",
   "execution_count": null,
   "id": "62fe1911",
   "metadata": {},
   "outputs": [],
   "source": [
    "train_df = pd.read_csv('train_result_complete.csv', parse_dates = ['date'])\n",
    "train_df.head(10)"
   ]
  },
  {
   "cell_type": "code",
   "execution_count": null,
   "id": "1c5886af",
   "metadata": {},
   "outputs": [],
   "source": [
    "train_df.dropna(inplace=True)\n",
    "test_df.dropna(inplace=True)"
   ]
  },
  {
   "cell_type": "code",
   "execution_count": null,
   "id": "eb51a492",
   "metadata": {},
   "outputs": [],
   "source": [
    "options = ['ATOM-USD', 'BTC-USD', 'DOGE-USD', 'DOT-USD', 'ETH-USD', 'ETC-USD', 'POLY-USD', 'SHIB-USD'] \n",
    "# selecting rows based on condition \n",
    "sample_df = train_df[train_df['coinpair'].isin(options)]\n",
    "sample_test_df = test_df[test_df['coinpair'].isin(options)] "
   ]
  },
  {
   "cell_type": "code",
   "execution_count": null,
   "id": "00348a20",
   "metadata": {},
   "outputs": [],
   "source": [
    "train_X = sample_df[['x_rsi',\n",
    "       'MA_1_3', 'MA_3_24', 'MA_24_216', 'x_ATR', 'x_bollinger',\n",
    "       'obv', 'MA_3_8', 'MA_8_24', 'MA_24_48', 'coinpair']]\n",
    "train_y = sample_df['y_4']"
   ]
  },
  {
   "cell_type": "code",
   "execution_count": null,
   "id": "0d75a07e",
   "metadata": {},
   "outputs": [],
   "source": [
    "test_X = sample_test_df[['x_rsi',\n",
    "        'MA_1_3', 'MA_3_24', 'MA_24_216', 'x_ATR', 'x_bollinger',\n",
    "        'obv', 'MA_3_8', 'MA_8_24', 'MA_24_48', 'coinpair']]\n",
    "test_y = sample_test_df['y_4']"
   ]
  },
  {
   "cell_type": "code",
   "execution_count": null,
   "id": "2a6cf047",
   "metadata": {},
   "outputs": [],
   "source": [
    "transformer = make_column_transformer(\n",
    "        (OneHotEncoder(), ['coinpair']),\n",
    "        remainder='passthrough')\n",
    "\n",
    "transformed = transformer.fit_transform(train_X)"
   ]
  },
  {
   "cell_type": "code",
   "execution_count": null,
   "id": "a62f37c1",
   "metadata": {},
   "outputs": [],
   "source": [
    "train_X = pd.DataFrame(\n",
    "    transformed, \n",
    "    columns=transformer.get_feature_names()\n",
    ")"
   ]
  },
  {
   "cell_type": "code",
   "execution_count": null,
   "id": "22f55896",
   "metadata": {},
   "outputs": [],
   "source": [
    "test_transformed = transformer.transform(test_X)"
   ]
  },
  {
   "cell_type": "code",
   "execution_count": null,
   "id": "3615b550",
   "metadata": {},
   "outputs": [],
   "source": [
    "test_X = pd.DataFrame(\n",
    "    test_transformed, \n",
    "    columns=transformer.get_feature_names()\n",
    ")"
   ]
  },
  {
   "cell_type": "code",
   "execution_count": null,
   "id": "e915e09a",
   "metadata": {},
   "outputs": [],
   "source": [
    "# normalizer = tf.keras.layers.Normalization(axis=-1)\n",
    "# normalizer.adapt(train_X)\n",
    "# (value - min)/(max - min)"
   ]
  },
  {
   "cell_type": "code",
   "execution_count": null,
   "id": "c6ba30d3",
   "metadata": {},
   "outputs": [],
   "source": [
    "# def create_model(activation = 'relu', hidden_layers=1, units=6):\n",
    "#     # Initialize the constructor\n",
    "#     model = Sequential()\n",
    "#     # Add an input layer\n",
    "#     model.add(normalizer)\n",
    "#     # model.add(Dense(train_X.shape[1], activation=activation, input_shape=(train_X.shape[1],)))\n",
    "\n",
    "#     for i in range(hidden_layers):\n",
    "#     # Add one hidden layer\n",
    "#         model.add(Dense(units, activation=activation))\n",
    "\n",
    "#     # Add an output layer \n",
    "#     model.add(Dense(3, activation='softmax'))\n",
    "#     #compile model\n",
    "#     model.compile(loss=\"categorical_crossentropy\", optimizer= 'adam', metrics=['accuracy',tf.keras.metrics.AUC(multi_label=True)])\n",
    "#     return model"
   ]
  },
  {
   "cell_type": "code",
   "execution_count": null,
   "id": "ef075abc",
   "metadata": {},
   "outputs": [],
   "source": [
    "# my_classifier = KerasClassifier(build_fn=create_model)# Create \n",
    "# parameters = {'hidden_layers' : [3, 5], 'units' : [5, 10], 'activation' : ['relu','sigmoid']}\n",
    "# # Create grid search\n",
    "# grid = RandomizedSearchCV(estimator=my_classifier, param_distributions=parameters) #inserir param_distributions\n",
    "\n",
    "# # Fit grid search\n",
    "# grid_result = grid.fit(train_X, train_y,\n",
    "#                     verbose=1)"
   ]
  },
  {
   "cell_type": "code",
   "execution_count": null,
   "id": "4b1ffbd5",
   "metadata": {},
   "outputs": [],
   "source": [
    "# results = pd.DataFrame(grid_result.cv_results_)\n",
    "# results.to_csv('/content/drive/MyDrive/nn-random-grid-search-results-01.csv', index=False)"
   ]
  },
  {
   "cell_type": "code",
   "execution_count": null,
   "id": "b1bd6a85",
   "metadata": {},
   "outputs": [],
   "source": [
    "# View hyperparameters of best neural network\n",
    "# grid_result.best_params_"
   ]
  },
  {
   "cell_type": "code",
   "execution_count": null,
   "id": "aad31f73",
   "metadata": {},
   "outputs": [],
   "source": [
    "# y_preb_probs = grid_result.predict_proba(test_X)\n",
    "# roc_auc_score(test_y, y_preb_probs, average=\"weighted\", multi_class=\"ovr\")"
   ]
  },
  {
   "cell_type": "code",
   "execution_count": null,
   "id": "64039bf3",
   "metadata": {},
   "outputs": [],
   "source": [
    "# y_preb_probs_train = grid_result.predict_proba(train_X)\n",
    "# roc_auc_score(train_y, y_preb_probs_train, average=\"weighted\", multi_class=\"ovr\")"
   ]
  },
  {
   "cell_type": "code",
   "execution_count": null,
   "id": "6677b247",
   "metadata": {},
   "outputs": [],
   "source": [
    "import joblib"
   ]
  },
  {
   "cell_type": "code",
   "execution_count": null,
   "id": "63c9ba24",
   "metadata": {},
   "outputs": [],
   "source": [
    "#save your model or results\n",
    "# joblib.dump(grid_result.best_estimator_, '/content/drive/MyDrive/nn_model.pkl')\n",
    "\n",
    "#load your model for further usage\n",
    "loaded_model = joblib.load(\"/content/drive/MyDrive/nn_model.pkl\")"
   ]
  },
  {
   "cell_type": "code",
   "execution_count": null,
   "id": "1b8842f2",
   "metadata": {},
   "outputs": [],
   "source": [
    "y_preb_probs = loaded_model.predict_proba(test_X)\n",
    "roc_auc_score(test_y, y_preb_probs, average=\"weighted\", multi_class=\"ovr\")"
   ]
  },
  {
   "cell_type": "code",
   "execution_count": null,
   "id": "7378a1d8",
   "metadata": {},
   "outputs": [],
   "source": [
    "y_preb_probs_train = loaded_model.predict_proba(train_X)\n",
    "roc_auc_score(train_y, y_preb_probs_train, average=\"weighted\", multi_class=\"ovr\")"
   ]
  },
  {
   "cell_type": "code",
   "execution_count": null,
   "id": "685b3fef",
   "metadata": {},
   "outputs": [],
   "source": [
    "y_pred_test = loaded_model.predict(test_X)\n",
    "accuracy_score(test_y, y_pred_test)"
   ]
  },
  {
   "cell_type": "markdown",
   "id": "082e8ab5",
   "metadata": {},
   "source": [
    "## SUMMARY STATS OF RAW DATA"
   ]
  },
  {
   "cell_type": "code",
   "execution_count": null,
   "id": "178b4417",
   "metadata": {},
   "outputs": [],
   "source": [
    "sample_df[['low', 'high', 'close', 'volume']].describe()"
   ]
  },
  {
   "cell_type": "code",
   "execution_count": null,
   "id": "90c2a784",
   "metadata": {},
   "outputs": [],
   "source": [
    "sample_df.coinpair.value_counts()/sample_df.shape[0]*100"
   ]
  },
  {
   "cell_type": "code",
   "execution_count": null,
   "id": "32011a0b",
   "metadata": {},
   "outputs": [],
   "source": [
    "sample_test_df[['low', 'high', 'close', 'volume']].describe()"
   ]
  },
  {
   "cell_type": "code",
   "execution_count": null,
   "id": "b27dfa9f",
   "metadata": {},
   "outputs": [],
   "source": [
    "sample_test_df.coinpair.value_counts()/sample_test_df.shape[0]*100"
   ]
  },
  {
   "cell_type": "code",
   "execution_count": null,
   "id": "ba9ffdd9",
   "metadata": {},
   "outputs": [],
   "source": [
    "sample_df[['x_rsi','x_ATR', 'obv']].describe()"
   ]
  },
  {
   "cell_type": "code",
   "execution_count": null,
   "id": "a1fa16f6",
   "metadata": {},
   "outputs": [],
   "source": [
    "for each in ['MA_1_3', 'MA_3_24', 'MA_24_216', 'x_bollinger',\n",
    "             'MA_3_8', 'MA_8_24', 'MA_24_48', 'coinpair']:\n",
    "  print(sample_df[each].value_counts()/sample_df.shape[0]*100)"
   ]
  },
  {
   "cell_type": "code",
   "execution_count": null,
   "id": "47465c88",
   "metadata": {},
   "outputs": [],
   "source": [
    "sample_test_df[['x_rsi','x_ATR', 'obv']].describe()"
   ]
  },
  {
   "cell_type": "code",
   "execution_count": null,
   "id": "1c67035f",
   "metadata": {},
   "outputs": [],
   "source": [
    "for each in ['MA_1_3', 'MA_3_24', 'MA_24_216', 'x_bollinger',\n",
    "             'MA_3_8', 'MA_8_24', 'MA_24_48', 'coinpair']:\n",
    "  print(sample_test_df[each].value_counts()/sample_test_df.shape[0]*100)"
   ]
  },
  {
   "cell_type": "code",
   "execution_count": null,
   "id": "f5c69c0e",
   "metadata": {},
   "outputs": [],
   "source": [
    "#Summary stats of output\n",
    "print(sample_test_df['y_4'].value_counts()/sample_test_df.shape[0]*100)"
   ]
  },
  {
   "cell_type": "code",
   "execution_count": null,
   "id": "931ac353",
   "metadata": {},
   "outputs": [],
   "source": [
    "#Summary stats of output\n",
    "print(sample_df['y_4'].value_counts()/sample_df.shape[0]*100)"
   ]
  },
  {
   "cell_type": "code",
   "execution_count": null,
   "id": "80ff1857",
   "metadata": {},
   "outputs": [],
   "source": [
    "sample_df['y_pred'] = loaded_model.predict(train_X)\n",
    "sample_test_df['y_pred'] = loaded_model.predict(test_X)"
   ]
  },
  {
   "cell_type": "code",
   "execution_count": null,
   "id": "65d517a7",
   "metadata": {},
   "outputs": [],
   "source": [
    "for each in sample_df.coinpair.unique():\n",
    "    temp = sample_df.loc[sample_df.coinpair==each].copy()\n",
    "    temp.reset_index(inplace = True)\n",
    "    volume = 0\n",
    "    value = 0\n",
    "    transactions = 0\n",
    "    for i in range(len(temp)):\n",
    "        if temp.loc[i].y_pred == 0:\n",
    "            if volume > 0:\n",
    "                value += temp.loc[i].close\n",
    "                transactions += 0.01*temp.loc[i].close\n",
    "                volume -= 1\n",
    "        elif temp.loc[i].y_pred == 2:\n",
    "            continue\n",
    "        else:\n",
    "            volume += 1\n",
    "            value -= temp.loc[i].close\n",
    "            transactions += 0.01*temp.loc[i].close\n",
    "            for j in range(i+1,i+48):\n",
    "                if j < len(temp):\n",
    "                    if temp.loc[j].y_pred == 0:\n",
    "                        value += temp.loc[j].close\n",
    "                        transactions += 0.01*temp.loc[j].close\n",
    "                        volume -= 1\n",
    "                        break\n",
    "                else:\n",
    "                    value += temp.loc[j-1].close\n",
    "                    transactions += 0.01*temp.loc[j-1].close\n",
    "                    volume -= 1\n",
    "                    break\n",
    "            if volume == 1:\n",
    "                value += temp.loc[i+48].close\n",
    "                transactions += 0.01*temp.loc[i+48].close\n",
    "                volume -= 1\n",
    "    print(each)\n",
    "    print(value)\n",
    "    print(transactions)\n",
    "    print('------------------------')\n"
   ]
  },
  {
   "cell_type": "code",
   "execution_count": null,
   "id": "ebdf0451",
   "metadata": {},
   "outputs": [],
   "source": [
    "for each in sample_test_df.coinpair.unique():\n",
    "    temp = sample_test_df.loc[sample_test_df.coinpair==each].copy()\n",
    "    temp.reset_index(inplace = True)\n",
    "    volume = 0\n",
    "    value = 0\n",
    "    transactions = 0\n",
    "    for i in range(len(temp)):\n",
    "        if temp.loc[i].y_pred == 0:\n",
    "            if volume > 0:\n",
    "                value += temp.loc[i].close\n",
    "                    transactions += 0.01*temp.loc[i].close\n",
    "                    volume -= 1\n",
    "            elif temp.loc[i].y_pred = 2:\n",
    "                continue\n",
    "            else:\n",
    "                volume += 1\n",
    "                value -= temp.loc[i].close\n",
    "                transactions += 0.01*temp.loc[i].close\n",
    "                for j in range(i+1,i+48):\n",
    "                    if j < len(temp):\n",
    "                        if temp.loc[j].y_pred == 0:\n",
    "                            value += temp.loc[j].close\n",
    "                            transactions += 0.01*temp.loc[j].close\n",
    "                            volume -= 1\n",
    "                            break\n",
    "                    else:\n",
    "                        value += temp.loc[j-1].close\n",
    "                        transactions += 0.01*temp.loc[j-1].close\n",
    "                        volume -= 1\n",
    "                        break\n",
    "                if volume == 1:\n",
    "                    if i+48 < len(temp):\n",
    "                        value += temp.loc[i+48].close\n",
    "                        transactions += 0.01*temp.loc[i+48].close\n",
    "                        volume -= 1\n",
    "                    else:\n",
    "                        value += temp.loc[len(temp)-1].close\n",
    "                        transactions += 0.01*temp.loc[len(temp)-1].close\n",
    "                        volume -= 1\n",
    "        print(each)\n",
    "        print(value)\n",
    "        print(transactions)\n",
    "        print('------------------------')"
   ]
  }
 ],
 "metadata": {
  "kernelspec": {
   "display_name": "Python 3 (ipykernel)",
   "language": "python",
   "name": "python3"
  },
  "language_info": {
   "codemirror_mode": {
    "name": "ipython",
    "version": 3
   },
   "file_extension": ".py",
   "mimetype": "text/x-python",
   "name": "python",
   "nbconvert_exporter": "python",
   "pygments_lexer": "ipython3",
   "version": "3.9.7"
  }
 },
 "nbformat": 4,
 "nbformat_minor": 5
}
